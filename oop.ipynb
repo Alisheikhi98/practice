{
 "cells": [
  {
   "cell_type": "code",
   "execution_count": 26,
   "id": "a38378e6",
   "metadata": {},
   "outputs": [],
   "source": [
    "class Car:\n",
    "    def __init__(self, model,color,year):\n",
    "        self.model = model\n",
    "        self.color = color\n",
    "        self.year = year\n",
    "        print(f\"model is {self.model} and {self.year} and color is {self.color}\")"
   ]
  },
  {
   "cell_type": "code",
   "execution_count": 19,
   "id": "b24670c1",
   "metadata": {},
   "outputs": [
    {
     "name": "stdout",
     "output_type": "stream",
     "text": [
      "model is pride and 1400 and color is white\n"
     ]
    },
    {
     "data": {
      "text/plain": [
       "<__main__.Car at 0x1c7a663bc50>"
      ]
     },
     "execution_count": 19,
     "metadata": {},
     "output_type": "execute_result"
    }
   ],
   "source": [
    "Car(\"pride\",\"white\",1400)"
   ]
  },
  {
   "cell_type": "markdown",
   "id": "86a86960",
   "metadata": {},
   "source": [
    "###Exercise 1\n",
    "Write a function that takes a single movie and # returns True if its IMDB score is above 5.5"
   ]
  },
  {
   "cell_type": "code",
   "execution_count": null,
   "id": "e27d7cfe",
   "metadata": {},
   "outputs": [
    {
     "name": "stdout",
     "output_type": "stream",
     "text": [
      "Usual Suspects False\n",
      "Hitman True\n",
      "Dark Knight True\n",
      "The Help True\n",
      "The Choice True\n",
      "Colonia True\n"
     ]
    }
   ],
   "source": [
    "movies_info = [ { \"name\": \"Usual Suspects\", \"imdb\": 2.0, \"category\": \"Thriller\" }, { \"name\": \"Hitman\", \"imdb\": 6.3, \"category\": \"Action\" }, { \"name\": \"Dark Knight\", \"imdb\": 9.0, \"category\": \"Adventure\" }, { \"name\": \"The Help\", \"imdb\": 8.0, \"category\": \"Drama\" }, { \"name\": \"The Choice\", \"imdb\": 6.2, \"category\": \"Romance\" }, { \"name\": \"Colonia\", \"imdb\": 7.4, \"category\": \"Romance\" }]\n",
    "\n",
    "class Movie:\n",
    "    def __init__(self, name, imdb, category):\n",
    "        self.name = name\n",
    "        self.imdb = imdb\n",
    "        self.cat = category\n",
    "        self.imdbval = (self.imdb > 5)\n",
    "\n",
    "# movies = []\n",
    "# for data in movies_info:\n",
    "#     movie = Movie(data[\"name\"], data[\"imdb\"], data[\"category\"])\n",
    "#     movies.append(movie)\n",
    "\n",
    "# for i in movies:\n",
    "#      print(i.name, i.imdbval)\n",
    "\n",
    "\n",
    "\n",
    "\n",
    "class MovieList:\n",
    "    def __init__(self, movies):\n",
    "        self.movies = movies\n",
    "        \n",
    "    def get_above_five(self):\n",
    "        result = []\n",
    "        for i in self.movies:\n",
    "            if i.Checkmovie():\n",
    "                result.append({\n",
    "                    \"name\": i.name,\n",
    "                    \"imdb\": i.imdb,\n",
    "                    \"category\": i.cat\n",
    "                    })\n",
    "        return result\n",
    "\n",
    "# # movie_list = MovieList(movies)\n",
    "\n",
    "# # print(movie_list.get_above_five())\n",
    "\n",
    "\n",
    "\n",
    "\n",
    "\n",
    "\n",
    "\n",
    "\n",
    "\n",
    "\n",
    "\n",
    "\n",
    "\n",
    "\n",
    "\n",
    "\n",
    "    \n",
    "    \n"
   ]
  },
  {
   "cell_type": "markdown",
   "id": "11648884",
   "metadata": {},
   "source": [
    "###Exercise 2\n",
    "# Write a function that returns a sublist of movies \n",
    "# with an IMDB score above 5.5. "
   ]
  },
  {
   "cell_type": "code",
   "execution_count": 2,
   "id": "7a14fa8d",
   "metadata": {},
   "outputs": [
    {
     "name": "stdout",
     "output_type": "stream",
     "text": [
      "[{'name': 'Usual Suspects', 'imdb': 7.0, 'category': 'Thriller'}, {'name': 'Hitman', 'imdb': 6.3, 'category': 'Action'}, {'name': 'Dark Knight', 'imdb': 9.0, 'category': 'Adventure'}, {'name': 'The Help', 'imdb': 8.0, 'category': 'Drama'}, {'name': 'The Choice', 'imdb': 6.2, 'category': 'Romance'}, {'name': 'Colonia', 'imdb': 7.4, 'category': 'Romance'}]\n"
     ]
    }
   ],
   "source": [
    "movies_info = [ { \"name\": \"Usual Suspects\", \"imdb\": 7.0, \"category\": \"Thriller\" }, { \"name\": \"Hitman\", \"imdb\": 6.3, \"category\": \"Action\" }, { \"name\": \"Dark Knight\", \"imdb\": 9.0, \"category\": \"Adventure\" }, { \"name\": \"The Help\", \"imdb\": 8.0, \"category\": \"Drama\" }, { \"name\": \"The Choice\", \"imdb\": 6.2, \"category\": \"Romance\" }, { \"name\": \"Colonia\", \"imdb\": 7.4, \"category\": \"Romance\" }]\n",
    "\n",
    "class Movie:\n",
    "    def __init__(self, movies_info):\n",
    "        self.movies = movies_info\n",
    "\n",
    "    def get_above_five(self) -> list:\n",
    "        result = []\n",
    "        for m in self.movies:\n",
    "            if m[\"imdb\"] > 5:\n",
    "                result.append(m)\n",
    "        return result\n",
    "\n",
    "\n",
    "a = Movie(movies_info)\n",
    "\n",
    "print(a.get_above_five())"
   ]
  },
  {
   "cell_type": "markdown",
   "id": "03b103f9",
   "metadata": {},
   "source": [
    "# class of students\n"
   ]
  },
  {
   "cell_type": "code",
   "execution_count": null,
   "id": "0f91b016",
   "metadata": {},
   "outputs": [
    {
     "name": "stdout",
     "output_type": "stream",
     "text": [
      "name: Niloofar | grade : 19.0\n",
      "name: Sara | grade : 18.5\n",
      "name: Ahmad | grade : 17.6\n",
      "name: Maryam | grade : 17.0\n",
      "name: Omid | grade : 16.4\n",
      "name: Ali | grade : 15.2\n",
      "name: Mahdi | grade : 14.3\n",
      "name: Fatemeh | grade : 13.5\n",
      "name: Reza | grade : 12.7\n",
      "name: Hossein | grade : 11.8\n"
     ]
    }
   ],
   "source": [
    "students_info = [\n",
    "    {\"name\": \"Ali\", \"age\": 13, \"grade\": 15.2, \"class\": \"7.1\"},\n",
    "    {\"name\": \"Sara\", \"age\": 13, \"grade\": 18.5, \"class\": \"7.1\"},\n",
    "    {\"name\": \"Reza\", \"age\": 14, \"grade\": 12.7, \"class\": \"7.2\"},\n",
    "    {\"name\": \"Maryam\", \"age\": 14, \"grade\": 17.0, \"class\": \"7.3\"},\n",
    "    \n",
    "    {\"name\": \"Omid\", \"age\": 14, \"grade\": 16.4, \"class\": \"8.1\"},\n",
    "    {\"name\": \"Niloofar\", \"age\": 14, \"grade\": 19.0, \"class\": \"8.2\"},\n",
    "    {\"name\": \"Hossein\", \"age\": 15, \"grade\": 11.8, \"class\": \"8.3\"},\n",
    "    \n",
    "    {\"name\": \"Fatemeh\", \"age\": 15, \"grade\": 13.5, \"class\": \"9.1\"},\n",
    "    {\"name\": \"Ahmad\", \"age\": 15, \"grade\": 17.6, \"class\": \"9.2\"},\n",
    "    {\"name\": \"Mahdi\", \"age\": 16, \"grade\": 14.3, \"class\": \"9.3\"},\n",
    "]\n",
    "\n",
    "\n",
    "class student:\n",
    "    def __init__(self, info:dict):\n",
    "        self.name = info[\"name\"]\n",
    "        self.age = info[\"age\"]\n",
    "        self.grade = info[\"grade\"]\n",
    "        self.class_name = info[\"class\"]\n",
    "\n",
    "    def sort_by_grade(self, reverse=True):\n",
    "        return sorted(self.students, key=lambda s: s[\"grade\"], reverse=reverse)\n",
    "    \n",
    "\n",
    "# students = []\n",
    "# for data in students_info:\n",
    "#     student = student(data[\"name\"], data[\"age\"], data[\"grade\"], data[\"class\"])\n",
    "#     students.append(student)\n",
    "class classroom:\n",
    "     def __init__(self):\n",
    "          pass\n",
    "     \n",
    "     def sort_by_grade(self, reverse=True):\n",
    "        return sorted(obj_list, key=lambda s: s.grade , reverse=reverse)\n",
    "     \n",
    "     def group_by_age(self, )\n",
    "     \n",
    "     \n",
    "     \n",
    "\n",
    "\n",
    "\n",
    "\n",
    "obj_list = list()\n",
    "for stu in students_info :\n",
    "    i = student(stu)\n",
    "    obj_list.append(i)\n",
    "\n",
    "\n",
    "\n",
    "for stu in sort_by_grade():\n",
    "     print(f\"name: {stu.name} | grade : {stu.grade}\")\n",
    "\n",
    "# student_list = student(students_info[1])\n",
    "\n",
    "# print(student_list.name)\n",
    "\n",
    "# sorted_students = student_list.sort_by_grade()\n",
    "# for s in sorted_students:\n",
    "#     print(f\"{s['name']} | {s['class']} | معدل: {s['grade']}\")\n"
   ]
  },
  {
   "cell_type": "code",
   "execution_count": null,
   "id": "0e4c43f2",
   "metadata": {},
   "outputs": [],
   "source": []
  }
 ],
 "metadata": {
  "kernelspec": {
   "display_name": "Python 3",
   "language": "python",
   "name": "python3"
  },
  "language_info": {
   "codemirror_mode": {
    "name": "ipython",
    "version": 3
   },
   "file_extension": ".py",
   "mimetype": "text/x-python",
   "name": "python",
   "nbconvert_exporter": "python",
   "pygments_lexer": "ipython3",
   "version": "3.12.10"
  }
 },
 "nbformat": 4,
 "nbformat_minor": 5
}
